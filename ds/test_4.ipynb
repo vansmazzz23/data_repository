{
 "cells": [
  {
   "cell_type": "code",
   "execution_count": 100,
   "metadata": {
    "collapsed": true
   },
   "outputs": [],
   "source": [
    "import numpy as np\n",
    "import pandas as pd\n",
    "import matplotlib.pyplot as plt\n",
    "import seaborn as sns\n",
    "import statistics as sts\n",
    "from collections import Counter\n",
    "from sklearn.metrics import mean_squared_error\n",
    "import scipy as scipy\n",
    "import math\n",
    "import itertools"
   ]
  },
  {
   "cell_type": "code",
   "execution_count": 101,
   "outputs": [
    {
     "data": {
      "text/plain": "     X   Y\n0    5  10\n1    5  10\n2    5  20\n3    5  20\n4    5  20\n5    5  20\n6    5  20\n7    5  30\n8    5  30\n9    5  30\n10  10  20\n11  10  20\n12  10  20\n13  10  20\n14  10  30\n15  10  30\n16  10  30\n17  10  30\n18  10  30\n19  10  30\n20  10  30\n21  10  30\n22  10  40\n23  10  40\n24  10  40\n25  15  20\n26  15  30\n27  15  30\n28  15  30\n29  15  30\n30  15  30\n31  15  30\n32  15  40\n33  15  40\n34  15  40\n35  15  40\n36  15  40\n37  15  40\n38  15  50\n39  15  50\n40  20  30\n41  20  30\n42  20  30\n43  20  40\n44  20  40\n45  20  40\n46  20  40\n47  20  40\n48  20  40\n49  20  50",
      "text/html": "<div>\n<style scoped>\n    .dataframe tbody tr th:only-of-type {\n        vertical-align: middle;\n    }\n\n    .dataframe tbody tr th {\n        vertical-align: top;\n    }\n\n    .dataframe thead th {\n        text-align: right;\n    }\n</style>\n<table border=\"1\" class=\"dataframe\">\n  <thead>\n    <tr style=\"text-align: right;\">\n      <th></th>\n      <th>X</th>\n      <th>Y</th>\n    </tr>\n  </thead>\n  <tbody>\n    <tr>\n      <th>0</th>\n      <td>5</td>\n      <td>10</td>\n    </tr>\n    <tr>\n      <th>1</th>\n      <td>5</td>\n      <td>10</td>\n    </tr>\n    <tr>\n      <th>2</th>\n      <td>5</td>\n      <td>20</td>\n    </tr>\n    <tr>\n      <th>3</th>\n      <td>5</td>\n      <td>20</td>\n    </tr>\n    <tr>\n      <th>4</th>\n      <td>5</td>\n      <td>20</td>\n    </tr>\n    <tr>\n      <th>5</th>\n      <td>5</td>\n      <td>20</td>\n    </tr>\n    <tr>\n      <th>6</th>\n      <td>5</td>\n      <td>20</td>\n    </tr>\n    <tr>\n      <th>7</th>\n      <td>5</td>\n      <td>30</td>\n    </tr>\n    <tr>\n      <th>8</th>\n      <td>5</td>\n      <td>30</td>\n    </tr>\n    <tr>\n      <th>9</th>\n      <td>5</td>\n      <td>30</td>\n    </tr>\n    <tr>\n      <th>10</th>\n      <td>10</td>\n      <td>20</td>\n    </tr>\n    <tr>\n      <th>11</th>\n      <td>10</td>\n      <td>20</td>\n    </tr>\n    <tr>\n      <th>12</th>\n      <td>10</td>\n      <td>20</td>\n    </tr>\n    <tr>\n      <th>13</th>\n      <td>10</td>\n      <td>20</td>\n    </tr>\n    <tr>\n      <th>14</th>\n      <td>10</td>\n      <td>30</td>\n    </tr>\n    <tr>\n      <th>15</th>\n      <td>10</td>\n      <td>30</td>\n    </tr>\n    <tr>\n      <th>16</th>\n      <td>10</td>\n      <td>30</td>\n    </tr>\n    <tr>\n      <th>17</th>\n      <td>10</td>\n      <td>30</td>\n    </tr>\n    <tr>\n      <th>18</th>\n      <td>10</td>\n      <td>30</td>\n    </tr>\n    <tr>\n      <th>19</th>\n      <td>10</td>\n      <td>30</td>\n    </tr>\n    <tr>\n      <th>20</th>\n      <td>10</td>\n      <td>30</td>\n    </tr>\n    <tr>\n      <th>21</th>\n      <td>10</td>\n      <td>30</td>\n    </tr>\n    <tr>\n      <th>22</th>\n      <td>10</td>\n      <td>40</td>\n    </tr>\n    <tr>\n      <th>23</th>\n      <td>10</td>\n      <td>40</td>\n    </tr>\n    <tr>\n      <th>24</th>\n      <td>10</td>\n      <td>40</td>\n    </tr>\n    <tr>\n      <th>25</th>\n      <td>15</td>\n      <td>20</td>\n    </tr>\n    <tr>\n      <th>26</th>\n      <td>15</td>\n      <td>30</td>\n    </tr>\n    <tr>\n      <th>27</th>\n      <td>15</td>\n      <td>30</td>\n    </tr>\n    <tr>\n      <th>28</th>\n      <td>15</td>\n      <td>30</td>\n    </tr>\n    <tr>\n      <th>29</th>\n      <td>15</td>\n      <td>30</td>\n    </tr>\n    <tr>\n      <th>30</th>\n      <td>15</td>\n      <td>30</td>\n    </tr>\n    <tr>\n      <th>31</th>\n      <td>15</td>\n      <td>30</td>\n    </tr>\n    <tr>\n      <th>32</th>\n      <td>15</td>\n      <td>40</td>\n    </tr>\n    <tr>\n      <th>33</th>\n      <td>15</td>\n      <td>40</td>\n    </tr>\n    <tr>\n      <th>34</th>\n      <td>15</td>\n      <td>40</td>\n    </tr>\n    <tr>\n      <th>35</th>\n      <td>15</td>\n      <td>40</td>\n    </tr>\n    <tr>\n      <th>36</th>\n      <td>15</td>\n      <td>40</td>\n    </tr>\n    <tr>\n      <th>37</th>\n      <td>15</td>\n      <td>40</td>\n    </tr>\n    <tr>\n      <th>38</th>\n      <td>15</td>\n      <td>50</td>\n    </tr>\n    <tr>\n      <th>39</th>\n      <td>15</td>\n      <td>50</td>\n    </tr>\n    <tr>\n      <th>40</th>\n      <td>20</td>\n      <td>30</td>\n    </tr>\n    <tr>\n      <th>41</th>\n      <td>20</td>\n      <td>30</td>\n    </tr>\n    <tr>\n      <th>42</th>\n      <td>20</td>\n      <td>30</td>\n    </tr>\n    <tr>\n      <th>43</th>\n      <td>20</td>\n      <td>40</td>\n    </tr>\n    <tr>\n      <th>44</th>\n      <td>20</td>\n      <td>40</td>\n    </tr>\n    <tr>\n      <th>45</th>\n      <td>20</td>\n      <td>40</td>\n    </tr>\n    <tr>\n      <th>46</th>\n      <td>20</td>\n      <td>40</td>\n    </tr>\n    <tr>\n      <th>47</th>\n      <td>20</td>\n      <td>40</td>\n    </tr>\n    <tr>\n      <th>48</th>\n      <td>20</td>\n      <td>40</td>\n    </tr>\n    <tr>\n      <th>49</th>\n      <td>20</td>\n      <td>50</td>\n    </tr>\n  </tbody>\n</table>\n</div>"
     },
     "execution_count": 101,
     "metadata": {},
     "output_type": "execute_result"
    }
   ],
   "source": [
    "X = []\n",
    "Y = []\n",
    "\n",
    "for _ in range(2):\n",
    "    X.append(5)\n",
    "    Y.append(10)\n",
    "\n",
    "for _ in range(5):\n",
    "    X.append(5)\n",
    "    Y.append(20)\n",
    "\n",
    "for _ in range(3):\n",
    "    X.append(5)\n",
    "    Y.append(30)\n",
    "\n",
    "for _ in range(4):\n",
    "    X.append(10)\n",
    "    Y.append(20)\n",
    "\n",
    "for _ in range(8):\n",
    "    X.append(10)\n",
    "    Y.append(30)\n",
    "\n",
    "for _ in range(3):\n",
    "    X.append(10)\n",
    "    Y.append(40)\n",
    "\n",
    "for _ in range(1):\n",
    "    X.append(15)\n",
    "    Y.append(20)\n",
    "\n",
    "for _ in range(6):\n",
    "    X.append(15)\n",
    "    Y.append(30)\n",
    "\n",
    "for _ in range(6):\n",
    "    X.append(15)\n",
    "    Y.append(40)\n",
    "\n",
    "for _ in range(2):\n",
    "    X.append(15)\n",
    "    Y.append(50)\n",
    "\n",
    "for _ in range(3):\n",
    "    X.append(20)\n",
    "    Y.append(30)\n",
    "\n",
    "for _ in range(6):\n",
    "    X.append(20)\n",
    "    Y.append(40)\n",
    "\n",
    "for _ in range(1):\n",
    "    X.append(20)\n",
    "    Y.append(50)\n",
    "\n",
    "df = pd.DataFrame({\n",
    "    'X': X,\n",
    "    'Y': Y\n",
    "})\n",
    "df"
   ],
   "metadata": {
    "collapsed": false
   }
  },
  {
   "cell_type": "code",
   "execution_count": 136,
   "outputs": [
    {
     "name": "stdout",
     "output_type": "stream",
     "text": [
      "n = 50\n",
      "sd_X = 5.175491695067657\n",
      "sd_Y = 9.4782242373705\n",
      "r = 0.6344467376059818\n",
      "y = 1.16 * x + 16.88\n"
     ]
    }
   ],
   "source": [
    "sd_X = np.std(df.X, ddof=1)\n",
    "sd_Y = np.std(df.Y, ddof=1)\n",
    "r = np.corrcoef(X, Y)[1][0]\n",
    "n = len(df.X)\n",
    "mean_X = np.mean(df.X)\n",
    "mean_Y = np.mean(df.Y)\n",
    "a = r * (sd_Y/sd_X)\n",
    "b = mean_Y - a * mean_X\n",
    "\n",
    "print(f'n = {n}')\n",
    "print(f'sd_X = {sd_X}')\n",
    "print(f'sd_Y = {sd_Y}')\n",
    "print(f'r = {r}')\n",
    "print(f'y = {round(a,2)} * x + {round(b, 2)}')"
   ],
   "metadata": {
    "collapsed": false
   }
  },
  {
   "cell_type": "code",
   "execution_count": 103,
   "outputs": [
    {
     "name": "stdout",
     "output_type": "stream",
     "text": [
      "MSE = 52.60190476190476\n"
     ]
    }
   ],
   "source": [
    "df['y_pred'] = a * df['X'] + b\n",
    "MSE = mean_squared_error(df['Y'], df['y_pred'])\n",
    "print(f'MSE = {MSE}')"
   ],
   "metadata": {
    "collapsed": false
   }
  },
  {
   "cell_type": "code",
   "execution_count": 114,
   "outputs": [
    {
     "data": {
      "text/plain": "X   5   10  15  20\nY                 \n10   2   0   0   0\n20   5   4   1   0\n30   3   8   6   3\n40   0   3   6   6\n50   0   0   2   1",
      "text/html": "<div>\n<style scoped>\n    .dataframe tbody tr th:only-of-type {\n        vertical-align: middle;\n    }\n\n    .dataframe tbody tr th {\n        vertical-align: top;\n    }\n\n    .dataframe thead th {\n        text-align: right;\n    }\n</style>\n<table border=\"1\" class=\"dataframe\">\n  <thead>\n    <tr style=\"text-align: right;\">\n      <th>X</th>\n      <th>5</th>\n      <th>10</th>\n      <th>15</th>\n      <th>20</th>\n    </tr>\n    <tr>\n      <th>Y</th>\n      <th></th>\n      <th></th>\n      <th></th>\n      <th></th>\n    </tr>\n  </thead>\n  <tbody>\n    <tr>\n      <th>10</th>\n      <td>2</td>\n      <td>0</td>\n      <td>0</td>\n      <td>0</td>\n    </tr>\n    <tr>\n      <th>20</th>\n      <td>5</td>\n      <td>4</td>\n      <td>1</td>\n      <td>0</td>\n    </tr>\n    <tr>\n      <th>30</th>\n      <td>3</td>\n      <td>8</td>\n      <td>6</td>\n      <td>3</td>\n    </tr>\n    <tr>\n      <th>40</th>\n      <td>0</td>\n      <td>3</td>\n      <td>6</td>\n      <td>6</td>\n    </tr>\n    <tr>\n      <th>50</th>\n      <td>0</td>\n      <td>0</td>\n      <td>2</td>\n      <td>1</td>\n    </tr>\n  </tbody>\n</table>\n</div>"
     },
     "execution_count": 114,
     "metadata": {},
     "output_type": "execute_result"
    }
   ],
   "source": [
    "corr_tabel = pd.crosstab(df.Y, df.X)\n",
    "corr_tabel"
   ],
   "metadata": {
    "collapsed": false
   }
  },
  {
   "cell_type": "code",
   "execution_count": 105,
   "outputs": [
    {
     "data": {
      "text/plain": "array([[2, 0, 0, 0],\n       [5, 4, 1, 0],\n       [3, 8, 6, 3],\n       [0, 3, 6, 6],\n       [0, 0, 2, 1]])"
     },
     "execution_count": 105,
     "metadata": {},
     "output_type": "execute_result"
    }
   ],
   "source": [
    "corr_table_np = np.array(corr_tabel)\n",
    "corr_table_np"
   ],
   "metadata": {
    "collapsed": false
   }
  },
  {
   "cell_type": "code",
   "execution_count": 133,
   "outputs": [
    {
     "name": "stdout",
     "output_type": "stream",
     "text": [
      "y_mean_group = [10, 20, 30, 40, 50]\n",
      "x_mean_group = [5, 10, 15, 20]\n",
      "n_len_X = 4\n",
      "n_len_Y = 5\n"
     ]
    },
    {
     "data": {
      "text/plain": "X   5   10  15  20\nY                 \n10   2   0   0   0\n20   5   4   1   0\n30   3   8   6   3\n40   0   3   6   6\n50   0   0   2   1",
      "text/html": "<div>\n<style scoped>\n    .dataframe tbody tr th:only-of-type {\n        vertical-align: middle;\n    }\n\n    .dataframe tbody tr th {\n        vertical-align: top;\n    }\n\n    .dataframe thead th {\n        text-align: right;\n    }\n</style>\n<table border=\"1\" class=\"dataframe\">\n  <thead>\n    <tr style=\"text-align: right;\">\n      <th>X</th>\n      <th>5</th>\n      <th>10</th>\n      <th>15</th>\n      <th>20</th>\n    </tr>\n    <tr>\n      <th>Y</th>\n      <th></th>\n      <th></th>\n      <th></th>\n      <th></th>\n    </tr>\n  </thead>\n  <tbody>\n    <tr>\n      <th>10</th>\n      <td>2</td>\n      <td>0</td>\n      <td>0</td>\n      <td>0</td>\n    </tr>\n    <tr>\n      <th>20</th>\n      <td>5</td>\n      <td>4</td>\n      <td>1</td>\n      <td>0</td>\n    </tr>\n    <tr>\n      <th>30</th>\n      <td>3</td>\n      <td>8</td>\n      <td>6</td>\n      <td>3</td>\n    </tr>\n    <tr>\n      <th>40</th>\n      <td>0</td>\n      <td>3</td>\n      <td>6</td>\n      <td>6</td>\n    </tr>\n    <tr>\n      <th>50</th>\n      <td>0</td>\n      <td>0</td>\n      <td>2</td>\n      <td>1</td>\n    </tr>\n  </tbody>\n</table>\n</div>"
     },
     "execution_count": 133,
     "metadata": {},
     "output_type": "execute_result"
    }
   ],
   "source": [
    "x_mean_group = sorted(list(set(df.X)))\n",
    "y_mean_group = sorted(list(set(df.Y)))\n",
    "\n",
    "n_len_X = len(x_mean_group)\n",
    "n_len_Y = len(y_mean_group)\n",
    "\n",
    "print(f'y_mean_group = {y_mean_group}')\n",
    "print(f'x_mean_group = {x_mean_group}')\n",
    "print(f'n_len_X = {n_len_X}')\n",
    "print(f'n_len_Y = {n_len_Y}')\n",
    "corr_tabel"
   ],
   "metadata": {
    "collapsed": false
   }
  },
  {
   "cell_type": "code",
   "execution_count": 169,
   "outputs": [
    {
     "name": "stdout",
     "output_type": "stream",
     "text": [
      "[21.0, 29.33, 36.0, 38.0]\n"
     ]
    }
   ],
   "source": [
    "y_5 = ((10 * 2) + (20 * 5) + (30 * 3)) / 10\n",
    "y_10 = ((20 * 4) + (30 * 8) + (40 * 3)) / 15\n",
    "y_15 = (20 + (30 * 6) + (40 * 6) + (50 * 2)) / 15\n",
    "y_20 = ((30 * 3) + (40 * 6) + 50) / 10\n",
    "\n",
    "Y_x = [y_5, round(y_10, 2), y_15, y_20]\n",
    "n_x = [10, 15, 15, 10]\n",
    "n_y = [2, 10, 20, 15, 3]\n",
    "\n",
    "print(Y_x)"
   ],
   "metadata": {
    "collapsed": false
   }
  },
  {
   "cell_type": "code",
   "execution_count": 170,
   "outputs": [
    {
     "ename": "IndexError",
     "evalue": "list index out of range",
     "output_type": "error",
     "traceback": [
      "\u001B[0;31m---------------------------------------------------------------------------\u001B[0m",
      "\u001B[0;31mIndexError\u001B[0m                                Traceback (most recent call last)",
      "\u001B[0;32m/var/folders/9r/t3xm5nyn7v3_ks6dxqd4vpsr0000gn/T/ipykernel_87439/3671137292.py\u001B[0m in \u001B[0;36m<module>\u001B[0;34m\u001B[0m\n\u001B[1;32m      5\u001B[0m \u001B[0mD_general\u001B[0m \u001B[0;34m=\u001B[0m \u001B[0;36m0\u001B[0m\u001B[0;34m\u001B[0m\u001B[0;34m\u001B[0m\u001B[0m\n\u001B[1;32m      6\u001B[0m \u001B[0;32mfor\u001B[0m \u001B[0mindex\u001B[0m\u001B[0;34m,\u001B[0m \u001B[0my\u001B[0m \u001B[0;32min\u001B[0m \u001B[0menumerate\u001B[0m\u001B[0;34m(\u001B[0m\u001B[0mdf\u001B[0m\u001B[0;34m.\u001B[0m\u001B[0mY\u001B[0m\u001B[0;34m)\u001B[0m\u001B[0;34m:\u001B[0m\u001B[0;34m\u001B[0m\u001B[0;34m\u001B[0m\u001B[0m\n\u001B[0;32m----> 7\u001B[0;31m     \u001B[0mD_general\u001B[0m \u001B[0;34m+=\u001B[0m \u001B[0mn_y\u001B[0m\u001B[0;34m[\u001B[0m\u001B[0mindex\u001B[0m\u001B[0;34m]\u001B[0m \u001B[0;34m*\u001B[0m \u001B[0;34m(\u001B[0m\u001B[0my\u001B[0m \u001B[0;34m-\u001B[0m \u001B[0mmean_Y\u001B[0m\u001B[0;34m)\u001B[0m\u001B[0;34m**\u001B[0m\u001B[0;36m2\u001B[0m \u001B[0;34m/\u001B[0m \u001B[0mn\u001B[0m\u001B[0;34m\u001B[0m\u001B[0;34m\u001B[0m\u001B[0m\n\u001B[0m\u001B[1;32m      8\u001B[0m \u001B[0;34m\u001B[0m\u001B[0m\n\u001B[1;32m      9\u001B[0m \u001B[0mprint\u001B[0m\u001B[0;34m(\u001B[0m\u001B[0mnp\u001B[0m\u001B[0;34m.\u001B[0m\u001B[0mvar\u001B[0m\u001B[0;34m(\u001B[0m\u001B[0mdf\u001B[0m\u001B[0;34m.\u001B[0m\u001B[0mY\u001B[0m\u001B[0;34m,\u001B[0m \u001B[0mddof\u001B[0m\u001B[0;34m=\u001B[0m\u001B[0;36m1\u001B[0m\u001B[0;34m)\u001B[0m\u001B[0;34m)\u001B[0m\u001B[0;34m\u001B[0m\u001B[0;34m\u001B[0m\u001B[0m\n",
      "\u001B[0;31mIndexError\u001B[0m: list index out of range"
     ]
    }
   ],
   "source": [
    "D_between = 0\n",
    "for index, y in enumerate(Y_x):\n",
    "    D_between += n_x[index] * (y - mean_Y)**2 / n\n",
    "\n",
    "D_general = 0\n",
    "for index, y in enumerate(df.Y):\n",
    "    D_general += n_y[index] * (y - mean_Y)**2 / n\n",
    "\n",
    "print(np.var(df.Y, ddof=1))\n",
    "print(f'D_between = {D_between}')\n",
    "print(f'D_general = {D_general}')"
   ],
   "metadata": {
    "collapsed": false
   }
  },
  {
   "cell_type": "code",
   "execution_count": 171,
   "outputs": [
    {
     "name": "stdout",
     "output_type": "stream",
     "text": [
      "n_y_x = 0.18198902626030292\n"
     ]
    },
    {
     "data": {
      "text/plain": "          Y         X\nY  1.000000  0.634447\nX  0.634447  1.000000",
      "text/html": "<div>\n<style scoped>\n    .dataframe tbody tr th:only-of-type {\n        vertical-align: middle;\n    }\n\n    .dataframe tbody tr th {\n        vertical-align: top;\n    }\n\n    .dataframe thead th {\n        text-align: right;\n    }\n</style>\n<table border=\"1\" class=\"dataframe\">\n  <thead>\n    <tr style=\"text-align: right;\">\n      <th></th>\n      <th>Y</th>\n      <th>X</th>\n    </tr>\n  </thead>\n  <tbody>\n    <tr>\n      <th>Y</th>\n      <td>1.000000</td>\n      <td>0.634447</td>\n    </tr>\n    <tr>\n      <th>X</th>\n      <td>0.634447</td>\n      <td>1.000000</td>\n    </tr>\n  </tbody>\n</table>\n</div>"
     },
     "execution_count": 171,
     "metadata": {},
     "output_type": "execute_result"
    }
   ],
   "source": [
    "n_y_x = D_between/D_general\n",
    "print(f'n_y_x = {n_y_x}')\n",
    "df[['Y', 'X']].corr()"
   ],
   "metadata": {
    "collapsed": false
   }
  },
  {
   "cell_type": "code",
   "execution_count": 183,
   "outputs": [
    {
     "name": "stdout",
     "output_type": "stream",
     "text": [
      "sd_Y = 9.4782242373705\n",
      "6.647587438311737\n",
      "0.7013536788992394\n"
     ]
    }
   ],
   "source": [
    "print(f'sd_Y = {sd_Y}')\n",
    "sd = np.std(Y_x)\n",
    "print(sd)\n",
    "print(sd/sd_Y)"
   ],
   "metadata": {
    "collapsed": false
   }
  }
 ],
 "metadata": {
  "kernelspec": {
   "display_name": "Python 3",
   "language": "python",
   "name": "python3"
  },
  "language_info": {
   "codemirror_mode": {
    "name": "ipython",
    "version": 2
   },
   "file_extension": ".py",
   "mimetype": "text/x-python",
   "name": "python",
   "nbconvert_exporter": "python",
   "pygments_lexer": "ipython2",
   "version": "2.7.6"
  }
 },
 "nbformat": 4,
 "nbformat_minor": 0
}

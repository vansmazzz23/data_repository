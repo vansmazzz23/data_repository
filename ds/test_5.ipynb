{
 "cells": [
  {
   "cell_type": "code",
   "execution_count": 2,
   "metadata": {
    "collapsed": true
   },
   "outputs": [],
   "source": [
    "import numpy as np\n",
    "import pandas as pd\n",
    "import matplotlib.pyplot as plt\n",
    "import seaborn as sns\n",
    "import statistics as sts\n",
    "from sklearn.metrics import mean_squared_error\n",
    "from collections import Counter\n",
    "import scipy as scipy\n",
    "import itertools\n",
    "from sklearn.preprocessing import PolynomialFeatures\n",
    "from sklearn.linear_model import LinearRegression"
   ]
  },
  {
   "cell_type": "code",
   "execution_count": 9,
   "outputs": [],
   "source": [
    "X = [22, 34, 24, 35, 36, 39, 42, 45, 48, 51, 53, 56, 59, 62, 65, 68, 71, 74, 77, 80]\n",
    "Y = [23, 45, 41, 54, 63, 72, 81, 120, 99, 79, 117, 130, 128, 165, 153, 170, 165, 150, 170, 198]\n",
    "df = pd.DataFrame({\n",
    "    'X': X,\n",
    "    'Y': Y,\n",
    "})\n",
    "n = len(df.X)"
   ],
   "metadata": {
    "collapsed": false
   }
  },
  {
   "cell_type": "code",
   "execution_count": 11,
   "outputs": [
    {
     "name": "stdout",
     "output_type": "stream",
     "text": [
      "var = 301.7342105263158\n",
      "301.73421052631585\n"
     ]
    }
   ],
   "source": [
    "var = 0\n",
    "for x in df.X:\n",
    "    var += (x - np.mean(df.X)) ** 2 / (n - 1)\n",
    "\n",
    "print(f'var = {var}')\n",
    "print(np.var(df.X, ddof=1))"
   ],
   "metadata": {
    "collapsed": false
   }
  }
 ],
 "metadata": {
  "kernelspec": {
   "display_name": "Python 3",
   "language": "python",
   "name": "python3"
  },
  "language_info": {
   "codemirror_mode": {
    "name": "ipython",
    "version": 2
   },
   "file_extension": ".py",
   "mimetype": "text/x-python",
   "name": "python",
   "nbconvert_exporter": "python",
   "pygments_lexer": "ipython2",
   "version": "2.7.6"
  }
 },
 "nbformat": 4,
 "nbformat_minor": 0
}
